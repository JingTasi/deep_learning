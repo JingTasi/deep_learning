{
 "cells": [
  {
   "cell_type": "code",
   "execution_count": 1,
   "metadata": {},
   "outputs": [],
   "source": [
    "%matplotlib inline"
   ]
  },
  {
   "cell_type": "code",
   "execution_count": 2,
   "metadata": {},
   "outputs": [
    {
     "name": "stderr",
     "output_type": "stream",
     "text": [
      "WARNING: Logging before flag parsing goes to stderr.\n",
      "W0722 02:53:47.709555 4356629952 lazy_loader.py:50] \n",
      "The TensorFlow contrib module will not be included in TensorFlow 2.0.\n",
      "For more information, please see:\n",
      "  * https://github.com/tensorflow/community/blob/master/rfcs/20180907-contrib-sunset.md\n",
      "  * https://github.com/tensorflow/addons\n",
      "  * https://github.com/tensorflow/io (for I/O related ops)\n",
      "If you depend on functionality not listed there, please file an issue.\n",
      "\n",
      "W0722 02:53:48.633103 4356629952 deprecation_wrapper.py:119] From /Users/sungchul/Dropbox/Git/machine_learning/mlp_mnist_flat_class_version_batchnorm/model/softmax_regression.py:95: The name tf.set_random_seed is deprecated. Please use tf.compat.v1.set_random_seed instead.\n",
      "\n",
      "W0722 02:53:48.634047 4356629952 deprecation_wrapper.py:119] From /Users/sungchul/Dropbox/Git/machine_learning/mlp_mnist_flat_class_version_batchnorm/model/softmax_regression.py:106: The name tf.placeholder is deprecated. Please use tf.compat.v1.placeholder instead.\n",
      "\n",
      "W0722 02:53:48.638470 4356629952 deprecation_wrapper.py:119] From /Users/sungchul/Dropbox/Git/machine_learning/mlp_mnist_flat_class_version_batchnorm/model/softmax_regression.py:154: The name tf.get_variable is deprecated. Please use tf.compat.v1.get_variable instead.\n",
      "\n",
      "W0722 02:53:48.822366 4356629952 deprecation_wrapper.py:119] From /Users/sungchul/Dropbox/Git/machine_learning/mlp_mnist_flat_class_version_batchnorm/model/softmax_regression.py:138: The name tf.train.AdamOptimizer is deprecated. Please use tf.compat.v1.train.AdamOptimizer instead.\n",
      "\n",
      "W0722 02:53:49.170673 4356629952 deprecation_wrapper.py:119] From /Users/sungchul/Dropbox/Git/machine_learning/mlp_mnist_flat_class_version_batchnorm/model/softmax_regression.py:232: The name tf.global_variables_initializer is deprecated. Please use tf.compat.v1.global_variables_initializer instead.\n",
      "\n"
     ]
    },
    {
     "name": "stdout",
     "output_type": "stream",
     "text": [
      "grandient_step :  1000\n",
      "loss :            0.015788043\n",
      "\n",
      "grandient_step :  2000\n",
      "loss :            0.028064804\n",
      "\n",
      "grandient_step :  3000\n",
      "loss :            0.0032996496\n",
      "\n",
      "grandient_step :  4000\n",
      "loss :            0.0056408523\n",
      "\n",
      "grandient_step :  5000\n",
      "loss :            0.001935251\n",
      "\n",
      "grandient_step :  6000\n",
      "loss :            0.00722624\n",
      "\n",
      "grandient_step :  7000\n",
      "loss :            0.0026166504\n",
      "\n",
      "grandient_step :  8000\n",
      "loss :            0.001690343\n",
      "\n"
     ]
    },
    {
     "name": "stderr",
     "output_type": "stream",
     "text": [
      "W0722 02:54:34.578778 4356629952 deprecation_wrapper.py:119] From /Users/sungchul/Dropbox/Git/machine_learning/mlp_mnist_flat_class_version_batchnorm/model/softmax_regression.py:216: The name tf.train.Saver is deprecated. Please use tf.compat.v1.train.Saver instead.\n",
      "\n"
     ]
    },
    {
     "name": "stdout",
     "output_type": "stream",
     "text": [
      "grandient_step :  9000\n",
      "loss :            0.002028494\n",
      "\n",
      "train accuracy :  0.8087\n"
     ]
    },
    {
     "name": "stderr",
     "output_type": "stream",
     "text": [
      "W0722 02:54:37.224222 4356629952 deprecation_wrapper.py:119] From /Users/sungchul/Dropbox/Git/machine_learning/mlp_mnist_flat_class_version_batchnorm/model/softmax_regression.py:202: The name tf.train.import_meta_graph is deprecated. Please use tf.compat.v1.train.import_meta_graph instead.\n",
      "\n"
     ]
    },
    {
     "name": "stdout",
     "output_type": "stream",
     "text": [
      "test accuracy :  0.8003\n"
     ]
    },
    {
     "name": "stderr",
     "output_type": "stream",
     "text": [
      "W0722 02:54:37.686278 4356629952 deprecation.py:323] From /Users/sungchul/anaconda3/lib/python3.7/site-packages/tensorflow/python/training/saver.py:1276: checkpoint_exists (from tensorflow.python.training.checkpoint_management) is deprecated and will be removed in a future version.\n",
      "Instructions for updating:\n",
      "Use standard file APIs to check for files with this prefix.\n"
     ]
    },
    {
     "name": "stdout",
     "output_type": "stream",
     "text": [
      "train accuracy :  0.8087\n",
      "test accuracy :  0.8003\n",
      "[[ 867   16   22   14    3   18    1   38    0    1]\n",
      " [   0 1134    0    0    0    0    0    1    0    0]\n",
      " [   0   45  907   47    1    1    0   30    0    1]\n",
      " [   0    1    0  998    0    4    0    7    0    0]\n",
      " [   0  128    3    2  683    2    2  152    0   10]\n",
      " [   0   16    0   31    1  835    2    7    0    0]\n",
      " [   2   61    5    3    1   40  837    9    0    0]\n",
      " [   0   13    2    1    0    0    0 1012    0    0]\n",
      " [   0  287   37  484    2   66    3   52   39    4]\n",
      " [   1   52    0   35    2    6    0  222    0  691]]\n"
     ]
    },
    {
     "data": {
      "text/plain": [
       "<Figure size 432x288 with 0 Axes>"
      ]
     },
     "metadata": {},
     "output_type": "display_data"
    },
    {
     "data": {
      "image/png": "[encoded data removed]",
      "text/plain": [
       "<Figure size 432x288 with 9 Axes>"
      ]
     },
     "metadata": {},
     "output_type": "display_data"
    }
   ],
   "source": [
    "import numpy as np\n",
    "import tensorflow as tf\n",
    "from model.softmax_regression import SoftmaxRegression\n",
    "from data_loading import mnist_flat_loader as mnist_flat\n",
    "    \n",
    "x_train, y_train, y_train_cls, x_test, y_test, y_test_cls, cls_names = mnist_flat.data_loading()\n",
    "    \n",
    "with tf.Session() as sess:\n",
    "    a = SoftmaxRegression(x_train, y_train, y_train_cls, cls_names, sess,\n",
    "                 lr=1e-3, epoch=15, batch_size=100, report_period=1000, np_seed=1, tf_seed=1,\n",
    "                 drop_out_rate=0.3,\n",
    "                 initializer=tf.contrib.layers.variance_scaling_initializer(mode=\"FAN_AVG\"),\n",
    "                 save_path='result/model/model_1',\n",
    "                 figure_save_dir='result/img',\n",
    "                 activation=tf.nn.relu)\n",
    "    a.train()\n",
    "        \n",
    "    print('train accuracy : ', a.compute_accuracy(x_train, y_train, y_train_cls))\n",
    "    print('test accuracy : ', a.compute_accuracy(x_test, y_test, y_test_cls))\n",
    "    \n",
    "with tf.Session() as sess:\n",
    "    a = SoftmaxRegression(x_train, y_train, y_train_cls, cls_names, sess,\n",
    "                 lr=1e-3, epoch=15, batch_size=100, report_period=1000, np_seed=1, tf_seed=1,\n",
    "                 drop_out_rate=0.3,\n",
    "                 initializer=tf.contrib.layers.variance_scaling_initializer(mode=\"FAN_AVG\"),\n",
    "                 save_path='result/model/model_1',\n",
    "                 figure_save_dir='result/img',\n",
    "                 activation=tf.nn.relu)\n",
    "    a.restore()\n",
    "        \n",
    "    print('train accuracy : ', a.compute_accuracy(x_train, y_train, y_train_cls))\n",
    "    print('test accuracy : ', a.compute_accuracy(x_test, y_test, y_test_cls))\n",
    "    \n",
    "    a.compute_confusion_matrix(x_test, y_test, y_test_cls)\n",
    "    a.plot_9_images_with_false_prediction(x_test, y_test, y_test_cls)"
   ]
  },
  {
   "cell_type": "code",
   "execution_count": null,
   "metadata": {},
   "outputs": [],
   "source": []
  }
 ],
 "metadata": {
  "kernelspec": {
   "display_name": "Python 3",
   "language": "python",
   "name": "python3"
  },
  "language_info": {
   "codemirror_mode": {
    "name": "ipython",
    "version": 3
   },
   "file_extension": ".py",
   "mimetype": "text/x-python",
   "name": "python",
   "nbconvert_exporter": "python",
   "pygments_lexer": "ipython3",
   "version": "3.7.3"
  }
 },
 "nbformat": 4,
 "nbformat_minor": 2
}
