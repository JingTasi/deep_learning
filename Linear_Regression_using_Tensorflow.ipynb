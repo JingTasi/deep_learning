{
 "cells": [
  {
   "cell_type": "markdown",
   "metadata": {},
   "source": [
    "# Linear Regression using Tensorflow"
   ]
  },
  {
   "cell_type": "code",
   "execution_count": 1,
   "metadata": {},
   "outputs": [
    {
     "data": {
      "image/png": "[encoded data removed]",
      "text/plain": [
       "<Figure size 432x288 with 1 Axes>"
      ]
     },
     "metadata": {
      "needs_background": "light"
     },
     "output_type": "display_data"
    },
    {
     "data": {
      "image/png": "[encoded data removed]",
      "text/plain": [
       "<Figure size 432x288 with 1 Axes>"
      ]
     },
     "metadata": {
      "needs_background": "light"
     },
     "output_type": "display_data"
    }
   ],
   "source": [
    "import numpy as np\n",
    "import matplotlib.pyplot as plt\n",
    "import tensorflow as tf\n",
    "import os\n",
    "\n",
    "# this line should be commented out for regular python run \n",
    "%matplotlib inline  \n",
    "# this line should be commented out for regular python run \n",
    "\n",
    "\n",
    "\"\"\" Hyperparameter \"\"\"\n",
    "data_size = 20\n",
    "batch_size = 10\n",
    "lr = 1e-2\n",
    "epoch = 1000\n",
    "\n",
    "\n",
    "\"\"\" Data Generation \"\"\"\n",
    "np.random.seed(337)\n",
    "\n",
    "x_data = np.random.uniform(0,1,(data_size,1)).astype(np.float32)\n",
    "y_data = (3 * x_data + 2 + 0.5 * np.random.normal(0,1,(data_size,1))).astype(np.float32) \n",
    "\n",
    "plt.plot(x_data,y_data,'o')\n",
    "plt.show()\n",
    "\n",
    "\n",
    "\"\"\" Graph Construction \"\"\"\n",
    "tf.random.set_random_seed(337)\n",
    "\n",
    "# placeholders\n",
    "# x = tf.placeholder(tf.float32, shape=(None, 1), name='x')\n",
    "# y = tf.placeholder(tf.float32, shape=(None, 1), name='y')\n",
    "x = tf.placeholder(tf.float32, shape=(batch_size, 1), name='x')\n",
    "y = tf.placeholder(tf.float32, shape=(batch_size, 1), name='y')\n",
    "\n",
    "# weights\n",
    "W = tf.get_variable(\"W\", shape=(1, 1), \\\n",
    "        initializer=tf.contrib.layers.variance_scaling_initializer(mode=\"FAN_AVG\"))\n",
    "b = tf.get_variable(\"b\", shape=(), \\\n",
    "        initializer=tf.constant_initializer(0.0))\n",
    "\n",
    "# prediction\n",
    "y_pred = (x @ W) + b\n",
    "\n",
    "# cost\n",
    "cost = tf.nn.l2_loss(y - y_pred)\n",
    "\n",
    "# optimizer\n",
    "train_op = tf.train.AdamOptimizer(learning_rate=lr).minimize(cost)\n",
    "\n",
    "\n",
    "\"\"\" Train \"\"\"\n",
    "with tf.Session() as sess:\n",
    "    tf.global_variables_initializer().run()\n",
    "    \n",
    "    # run gradient descent\n",
    "    for i in range(epoch):\n",
    "        idx = np.random.permutation(np.arange(data_size)) \n",
    "        x_batch = x_data[idx]\n",
    "        y_batch = y_data[idx]\n",
    "        for batch_number in range(int(data_size/batch_size)): \n",
    "            x_b = x_batch[batch_number*batch_size:(batch_number+1)*batch_size]\n",
    "            y_b = y_batch[batch_number*batch_size:(batch_number+1)*batch_size]\n",
    "            feed_dict = {x: x_b, y: y_b}\n",
    "            _, cost_now = sess.run([train_op, cost], feed_dict=feed_dict)\n",
    "            #print(cost_now)\n",
    "\n",
    "    # compute outputs of linear regression given x_data\n",
    "    # y_now = sess.run(y_pred, feed_dict={x: x_data})\n",
    "    y_now = np.empty_like(y_data)\n",
    "    for batch_number in range(int(data_size/batch_size)):\n",
    "        x_b = x_data[batch_number*batch_size:(batch_number+1)*batch_size]\n",
    "        feed_dict = {x: x_b}\n",
    "        y_temp = sess.run(y_pred, feed_dict=feed_dict)\n",
    "        y_now[batch_number*batch_size:(batch_number+1)*batch_size] = y_temp\n",
    "        \n",
    "    fig, ax = plt.subplots()\n",
    "    ax.plot(x_data, y_data, 'ok')\n",
    "    ax.plot(x_data, y_now, 'b')\n",
    "    \n",
    "    if not os.path.isdir('img'):\n",
    "        os.mkdir('img')\n",
    "        \n",
    "    plt.savefig(\"img/figure.png\") \n",
    "    plt.show()"
   ]
  },
  {
   "cell_type": "code",
   "execution_count": null,
   "metadata": {},
   "outputs": [],
   "source": []
  }
 ],
 "metadata": {
  "kernelspec": {
   "display_name": "Python 3",
   "language": "python",
   "name": "python3"
  },
  "language_info": {
   "codemirror_mode": {
    "name": "ipython",
    "version": 3
   },
   "file_extension": ".py",
   "mimetype": "text/x-python",
   "name": "python",
   "nbconvert_exporter": "python",
   "pygments_lexer": "ipython3",
   "version": "3.5.0"
  }
 },
 "nbformat": 4,
 "nbformat_minor": 2
}
