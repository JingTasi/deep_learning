{
 "cells": [
  {
   "cell_type": "markdown",
   "metadata": {
    "collapsed": true,
    "slideshow": {
     "slide_type": "slide"
    }
   },
   "source": [
    "# Activation functions\n",
    " \n",
    "Sungchul Lee  "
   ]
  },
  {
   "cell_type": "markdown",
   "metadata": {
    "slideshow": {
     "slide_type": "subslide"
    }
   },
   "source": [
    "# How to run these slides yourself\n",
    "\n",
    "**Setup python environment**\n",
    "\n",
    "- [Install RISE for an interactive presentation viewer](https://github.com/damianavila/RISE)"
   ]
  },
  {
   "cell_type": "code",
   "execution_count": 1,
   "metadata": {
    "slideshow": {
     "slide_type": "subslide"
    }
   },
   "outputs": [
    {
     "name": "stdout",
     "output_type": "stream",
     "text": [
      "Tensor(\"LinSpace:0\", shape=(100,), dtype=float32)\n",
      "Tensor(\"LeakyRelu:0\", shape=(100,), dtype=float32)\n"
     ]
    },
    {
     "data": {
      "image/png": "[encoded data removed]",
      "text/plain": [
       "<Figure size 432x288 with 1 Axes>"
      ]
     },
     "metadata": {
      "needs_background": "light"
     },
     "output_type": "display_data"
    }
   ],
   "source": [
    "import tensorflow as tf\n",
    "import matplotlib.pyplot as plt\n",
    "\n",
    "# no need this line when you run this code using py file\n",
    "%matplotlib inline\n",
    "# no need this line when you run this code using py file\n",
    "\n",
    "x = tf.linspace(-7., 7., 100)\n",
    "\n",
    "if 0: \n",
    "    y = tf.nn.relu(x)\n",
    "elif 1:\n",
    "    y = tf.nn.leaky_relu(x, alpha=0.1)\n",
    "elif 0: \n",
    "    # https://woolulu.tistory.com/84\n",
    "    # elu는 매끄럽게 만든 ReLU 함수라고 할 수 있다.\n",
    "    # 단, 하부 점근선이 -1입니다.\n",
    "    # x<0일 때는 exp(x)-1이고, 그외에는 x입니다.\n",
    "    y = tf.nn.elu(x)\n",
    "elif 0: \n",
    "    # https://woolulu.tistory.com/84\n",
    "    # softplus는 매끄럽게 만든 ReLU 함수라고 할 수 있다. \n",
    "    # 이 함수의 식은 log(exp(x) + 1)\n",
    "    y = tf.nn.softplus(x)\n",
    "elif 0: \n",
    "    # from 0 to 1\n",
    "    # tf.nn.tanh = 2 * tf.nn.sigmoid - 1\n",
    "    # tf.nn.sigmoid(x) = 1 / (1 + exp(-x))\n",
    "    y = tf.nn.sigmoid(x)\n",
    "elif 0:\n",
    "    # from -1 to 1\n",
    "    # tf.nn.tanh = 2 * tf.nn.sigmoid - 1\n",
    "    y = tf.nn.tanh(x)\n",
    "elif 0:\n",
    "    # https://woolulu.tistory.com/84\n",
    "    # softsign 함수도 activation function로 사용할 수 있습니다.\n",
    "    # x / (abs(x) + 1)로 표현할 수 있으며 부호sign 함수를 연속 함수로 근사한 것입니다.\n",
    "    y = tf.nn.softsign(x)\n",
    "elif 1:\n",
    "    # https://woolulu.tistory.com/84\n",
    "    # ReLU6 이 함수는 매끄럽지 않은 각진 모양의 sigmoid 함수로 생각할 수 있습니다.\n",
    "    y = tf.nn.relu6(x) \n",
    "    \n",
    "print(x)\n",
    "print(y)\n",
    "\n",
    "with tf.Session() as sess:\n",
    "    x_run, y_run = sess.run([x, y])\n",
    "    \n",
    "    plt.plot(x_run, y_run)\n",
    "    #plt.grid(True)\n",
    "    plt.show()"
   ]
  },
  {
   "cell_type": "code",
   "execution_count": null,
   "metadata": {},
   "outputs": [],
   "source": []
  }
 ],
 "metadata": {
  "celltoolbar": "Slideshow",
  "kernelspec": {
   "display_name": "Python 3",
   "language": "python",
   "name": "python3"
  },
  "language_info": {
   "codemirror_mode": {
    "name": "ipython",
    "version": 3
   },
   "file_extension": ".py",
   "mimetype": "text/x-python",
   "name": "python",
   "nbconvert_exporter": "python",
   "pygments_lexer": "ipython3",
   "version": "3.5.0"
  }
 },
 "nbformat": 4,
 "nbformat_minor": 2
}
