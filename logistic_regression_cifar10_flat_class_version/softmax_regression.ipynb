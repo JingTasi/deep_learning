{
 "cells": [
  {
   "cell_type": "code",
   "execution_count": 1,
   "metadata": {},
   "outputs": [],
   "source": [
    "%matplotlib inline"
   ]
  },
  {
   "cell_type": "code",
   "execution_count": 2,
   "metadata": {},
   "outputs": [
    {
     "name": "stdout",
     "output_type": "stream",
     "text": [
      "Data has apparently already been downloaded and unpacked.\n",
      "Loading data: data/CIFAR-10/cifar-10-batches-py/data_batch_1\n",
      "Loading data: data/CIFAR-10/cifar-10-batches-py/data_batch_2\n",
      "Loading data: data/CIFAR-10/cifar-10-batches-py/data_batch_3\n",
      "Loading data: data/CIFAR-10/cifar-10-batches-py/data_batch_4\n",
      "Loading data: data/CIFAR-10/cifar-10-batches-py/data_batch_5\n",
      "Loading data: data/CIFAR-10/cifar-10-batches-py/test_batch\n",
      "Loading data: data/CIFAR-10/cifar-10-batches-py/batches.meta\n",
      "(50000, 3072)\n",
      "(50000, 10)\n",
      "(50000,)\n",
      "(10000, 3072)\n",
      "(10000, 10)\n",
      "(10000,)\n"
     ]
    }
   ],
   "source": [
    "from data_loading import cifar10_flat_loader as mnist_flat\n",
    "    \n",
    "x_train, y_train, y_train_cls, x_test, y_test, y_test_cls, cls_names = mnist_flat.data_loading()\n",
    "\n",
    "print(x_train.shape) \n",
    "print(y_train.shape) \n",
    "print(y_train_cls.shape) \n",
    "print(x_test.shape) \n",
    "print(y_test.shape) \n",
    "print(y_test_cls.shape)"
   ]
  },
  {
   "cell_type": "code",
   "execution_count": 3,
   "metadata": {},
   "outputs": [
    {
     "name": "stderr",
     "output_type": "stream",
     "text": [
      "WARNING: Logging before flag parsing goes to stderr.\n",
      "W0721 16:14:59.347293 4585244096 lazy_loader.py:50] \n",
      "The TensorFlow contrib module will not be included in TensorFlow 2.0.\n",
      "For more information, please see:\n",
      "  * https://github.com/tensorflow/community/blob/master/rfcs/20180907-contrib-sunset.md\n",
      "  * https://github.com/tensorflow/addons\n",
      "  * https://github.com/tensorflow/io (for I/O related ops)\n",
      "If you depend on functionality not listed there, please file an issue.\n",
      "\n"
     ]
    },
    {
     "name": "stdout",
     "output_type": "stream",
     "text": [
      "Data has apparently already been downloaded and unpacked.\n",
      "Loading data: data/CIFAR-10/cifar-10-batches-py/data_batch_1\n",
      "Loading data: data/CIFAR-10/cifar-10-batches-py/data_batch_2\n",
      "Loading data: data/CIFAR-10/cifar-10-batches-py/data_batch_3\n",
      "Loading data: data/CIFAR-10/cifar-10-batches-py/data_batch_4\n",
      "Loading data: data/CIFAR-10/cifar-10-batches-py/data_batch_5\n",
      "Loading data: data/CIFAR-10/cifar-10-batches-py/test_batch\n",
      "Loading data: data/CIFAR-10/cifar-10-batches-py/batches.meta\n"
     ]
    },
    {
     "name": "stderr",
     "output_type": "stream",
     "text": [
      "W0721 16:15:01.980225 4585244096 deprecation_wrapper.py:119] From /Users/sungchul/Dropbox/Git/machine_learning/logistic_regression_cifar10_flat_class_version/model/softmax_regression.py:91: The name tf.set_random_seed is deprecated. Please use tf.compat.v1.set_random_seed instead.\n",
      "\n",
      "W0721 16:15:01.980867 4585244096 deprecation_wrapper.py:119] From /Users/sungchul/Dropbox/Git/machine_learning/logistic_regression_cifar10_flat_class_version/model/softmax_regression.py:96: The name tf.placeholder is deprecated. Please use tf.compat.v1.placeholder instead.\n",
      "\n",
      "W0721 16:15:01.983510 4585244096 deprecation_wrapper.py:119] From /Users/sungchul/Dropbox/Git/machine_learning/logistic_regression_cifar10_flat_class_version/model/softmax_regression.py:100: The name tf.get_variable is deprecated. Please use tf.compat.v1.get_variable instead.\n",
      "\n",
      "W0721 16:15:02.014612 4585244096 deprecation_wrapper.py:119] From /Users/sungchul/Dropbox/Git/machine_learning/logistic_regression_cifar10_flat_class_version/model/softmax_regression.py:109: The name tf.train.AdamOptimizer is deprecated. Please use tf.compat.v1.train.AdamOptimizer instead.\n",
      "\n",
      "W0721 16:15:02.069281 4585244096 deprecation_wrapper.py:119] From /Users/sungchul/Dropbox/Git/machine_learning/logistic_regression_cifar10_flat_class_version/model/softmax_regression.py:186: The name tf.global_variables_initializer is deprecated. Please use tf.compat.v1.global_variables_initializer instead.\n",
      "\n"
     ]
    },
    {
     "name": "stdout",
     "output_type": "stream",
     "text": [
      "grandient_step :  1000\n",
      "loss :            1.7797464\n",
      "\n",
      "grandient_step :  2000\n",
      "loss :            1.6482952\n",
      "\n",
      "grandient_step :  3000\n",
      "loss :            1.7088122\n",
      "\n",
      "grandient_step :  4000\n",
      "loss :            1.7309175\n",
      "\n",
      "grandient_step :  5000\n",
      "loss :            1.7269356\n",
      "\n",
      "grandient_step :  6000\n",
      "loss :            1.806531\n",
      "\n",
      "grandient_step :  7000\n",
      "loss :            1.8126757\n",
      "\n",
      "grandient_step :  8000\n",
      "loss :            1.5821071\n",
      "\n",
      "grandient_step :  9000\n",
      "loss :            1.773709\n",
      "\n",
      "grandient_step :  10000\n",
      "loss :            1.7686384\n",
      "\n",
      "grandient_step :  11000\n",
      "loss :            1.5861726\n",
      "\n",
      "grandient_step :  12000\n",
      "loss :            1.6308109\n",
      "\n",
      "grandient_step :  13000\n",
      "loss :            1.756038\n",
      "\n",
      "grandient_step :  14000\n",
      "loss :            1.5961334\n",
      "\n",
      "grandient_step :  15000\n",
      "loss :            1.6721687\n",
      "\n",
      "grandient_step :  16000\n",
      "loss :            1.7288929\n",
      "\n",
      "grandient_step :  17000\n",
      "loss :            1.7796974\n",
      "\n",
      "grandient_step :  18000\n",
      "loss :            1.6730354\n",
      "\n",
      "grandient_step :  19000\n",
      "loss :            1.6808386\n",
      "\n"
     ]
    },
    {
     "name": "stderr",
     "output_type": "stream",
     "text": [
      "W0721 16:16:08.464979 4585244096 deprecation_wrapper.py:119] From /Users/sungchul/Dropbox/Git/machine_learning/logistic_regression_cifar10_flat_class_version/model/softmax_regression.py:170: The name tf.train.Saver is deprecated. Please use tf.compat.v1.train.Saver instead.\n",
      "\n",
      "W0721 16:16:08.666783 4585244096 deprecation_wrapper.py:119] From /Users/sungchul/Dropbox/Git/machine_learning/logistic_regression_cifar10_flat_class_version/model/softmax_regression.py:158: The name tf.train.import_meta_graph is deprecated. Please use tf.compat.v1.train.import_meta_graph instead.\n",
      "\n",
      "W0721 16:16:08.695436 4585244096 deprecation.py:323] From /Users/sungchul/anaconda3/lib/python3.7/site-packages/tensorflow/python/training/saver.py:1276: checkpoint_exists (from tensorflow.python.training.checkpoint_management) is deprecated and will be removed in a future version.\n",
      "Instructions for updating:\n",
      "Use standard file APIs to check for files with this prefix.\n"
     ]
    },
    {
     "name": "stdout",
     "output_type": "stream",
     "text": [
      "train accuracy :  0.43544\n",
      "test accuracy :  0.4065\n",
      "train accuracy :  0.43544\n",
      "test accuracy :  0.4065\n",
      "[[443  47  54  39  30  39  20  53 231  44]\n",
      " [ 60 498  22  33  21  45  30  57 106 128]\n",
      " [ 98  42 268  81 141 110 113  69  63  15]\n",
      " [ 37  58  94 265  71 232  82  48  57  56]\n",
      " [ 54  28 134  58 327 111 126 109  40  13]\n",
      " [ 34  46  90 157  95 378  63  66  56  15]\n",
      " [ 12  38  81 135 120 103 432  35  27  17]\n",
      " [ 40  42  56  61  96  99  38 463  58  47]\n",
      " [130  76  22  25   7  53   7  17 600  63]\n",
      " [ 77 203  19  26  21  31  42  51 139 391]]\n"
     ]
    }
   ],
   "source": [
    "import numpy as np\n",
    "import tensorflow as tf\n",
    "from model.softmax_regression import SoftmaxRegression\n",
    "from data_loading import cifar10_flat_loader as mnist_flat\n",
    "    \n",
    "x_train, y_train, y_train_cls, x_test, y_test, y_test_cls, cls_names = mnist_flat.data_loading()\n",
    "    \n",
    "with tf.Session() as sess:\n",
    "    a = SoftmaxRegression(x_train, y_train, y_train_cls, cls_names, sess,\n",
    "                 lr=1e-4, epoch=100, batch_size=256, report_period=1000, np_seed=1, tf_seed=1,\n",
    "                 initializer=tf.contrib.layers.variance_scaling_initializer(mode=\"FAN_AVG\"),\n",
    "                 save_path='result/model/model_1',\n",
    "                 figure_save_dir='result/img')\n",
    "    a.train()\n",
    "        \n",
    "    print('train accuracy : ', a.compute_accuracy(x_train, y_train, y_train_cls))\n",
    "    print('test accuracy : ', a.compute_accuracy(x_test, y_test, y_test_cls))\n",
    "    \n",
    "with tf.Session() as sess:\n",
    "    a = SoftmaxRegression(x_train, y_train, y_train_cls, cls_names, sess,\n",
    "                 lr=1e-4, epoch=100, batch_size=256, report_period=1000, np_seed=1, tf_seed=1,\n",
    "                 initializer=tf.contrib.layers.variance_scaling_initializer(mode=\"FAN_AVG\"),\n",
    "                 save_path='result/model/model_1',\n",
    "                 figure_save_dir='result/img')\n",
    "    a.restore()\n",
    "        \n",
    "    print('train accuracy : ', a.compute_accuracy(x_train, y_train, y_train_cls))\n",
    "    print('test accuracy : ', a.compute_accuracy(x_test, y_test, y_test_cls))\n",
    "    \n",
    "    a.compute_confusion_matrix(x_test, y_test, y_test_cls)\n",
    "    #a.plot_9_images_with_false_prediction(x_test, y_test, y_test_cls)"
   ]
  },
  {
   "cell_type": "code",
   "execution_count": null,
   "metadata": {},
   "outputs": [],
   "source": []
  }
 ],
 "metadata": {
  "kernelspec": {
   "display_name": "Python 3",
   "language": "python",
   "name": "python3"
  },
  "language_info": {
   "codemirror_mode": {
    "name": "ipython",
    "version": 3
   },
   "file_extension": ".py",
   "mimetype": "text/x-python",
   "name": "python",
   "nbconvert_exporter": "python",
   "pygments_lexer": "ipython3",
   "version": "3.7.3"
  }
 },
 "nbformat": 4,
 "nbformat_minor": 2
}
