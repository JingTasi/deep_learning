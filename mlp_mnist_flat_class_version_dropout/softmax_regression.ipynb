{
 "cells": [
  {
   "cell_type": "code",
   "execution_count": 1,
   "metadata": {},
   "outputs": [],
   "source": [
    "%matplotlib inline"
   ]
  },
  {
   "cell_type": "code",
   "execution_count": 2,
   "metadata": {},
   "outputs": [
    {
     "name": "stderr",
     "output_type": "stream",
     "text": [
      "WARNING: Logging before flag parsing goes to stderr.\n",
      "W0721 23:49:06.498163 4780836288 lazy_loader.py:50] \n",
      "The TensorFlow contrib module will not be included in TensorFlow 2.0.\n",
      "For more information, please see:\n",
      "  * https://github.com/tensorflow/community/blob/master/rfcs/20180907-contrib-sunset.md\n",
      "  * https://github.com/tensorflow/addons\n",
      "  * https://github.com/tensorflow/io (for I/O related ops)\n",
      "If you depend on functionality not listed there, please file an issue.\n",
      "\n",
      "W0721 23:49:06.964823 4780836288 deprecation_wrapper.py:119] From /Users/sungchul/Dropbox/Git/machine_learning/mlp_mnist_flat_class_version/model/softmax_regression.py:95: The name tf.set_random_seed is deprecated. Please use tf.compat.v1.set_random_seed instead.\n",
      "\n",
      "W0721 23:49:06.965458 4780836288 deprecation_wrapper.py:119] From /Users/sungchul/Dropbox/Git/machine_learning/mlp_mnist_flat_class_version/model/softmax_regression.py:106: The name tf.placeholder is deprecated. Please use tf.compat.v1.placeholder instead.\n",
      "\n",
      "W0721 23:49:06.968693 4780836288 deprecation_wrapper.py:119] From /Users/sungchul/Dropbox/Git/machine_learning/mlp_mnist_flat_class_version/model/softmax_regression.py:154: The name tf.get_variable is deprecated. Please use tf.compat.v1.get_variable instead.\n",
      "\n",
      "W0721 23:49:07.032548 4780836288 deprecation_wrapper.py:119] From /Users/sungchul/Dropbox/Git/machine_learning/mlp_mnist_flat_class_version/model/softmax_regression.py:138: The name tf.train.AdamOptimizer is deprecated. Please use tf.compat.v1.train.AdamOptimizer instead.\n",
      "\n",
      "W0721 23:49:07.141598 4780836288 deprecation_wrapper.py:119] From /Users/sungchul/Dropbox/Git/machine_learning/mlp_mnist_flat_class_version/model/softmax_regression.py:232: The name tf.global_variables_initializer is deprecated. Please use tf.compat.v1.global_variables_initializer instead.\n",
      "\n"
     ]
    },
    {
     "name": "stdout",
     "output_type": "stream",
     "text": [
      "grandient_step :  1000\n",
      "loss :            1.0307789\n",
      "\n",
      "grandient_step :  2000\n",
      "loss :            0.97516465\n",
      "\n",
      "grandient_step :  3000\n",
      "loss :            0.8060715\n",
      "\n",
      "grandient_step :  4000\n",
      "loss :            0.801299\n",
      "\n",
      "grandient_step :  5000\n",
      "loss :            0.8020569\n",
      "\n",
      "grandient_step :  6000\n",
      "loss :            0.70662504\n",
      "\n",
      "grandient_step :  7000\n",
      "loss :            0.7512182\n",
      "\n",
      "grandient_step :  8000\n",
      "loss :            0.91623676\n",
      "\n",
      "grandient_step :  9000\n",
      "loss :            0.7926642\n",
      "\n",
      "grandient_step :  10000\n",
      "loss :            0.843889\n",
      "\n",
      "grandient_step :  11000\n",
      "loss :            0.86598885\n",
      "\n",
      "grandient_step :  12000\n",
      "loss :            0.87274396\n",
      "\n",
      "grandient_step :  13000\n",
      "loss :            0.8411726\n",
      "\n",
      "grandient_step :  14000\n",
      "loss :            0.731637\n",
      "\n",
      "grandient_step :  15000\n",
      "loss :            0.665053\n",
      "\n",
      "grandient_step :  16000\n",
      "loss :            0.7557547\n",
      "\n",
      "grandient_step :  17000\n",
      "loss :            0.7004828\n",
      "\n",
      "grandient_step :  18000\n",
      "loss :            0.6849123\n",
      "\n",
      "grandient_step :  19000\n",
      "loss :            0.6598637\n",
      "\n",
      "grandient_step :  20000\n",
      "loss :            0.7995254\n",
      "\n",
      "grandient_step :  21000\n",
      "loss :            0.8097231\n",
      "\n",
      "grandient_step :  22000\n",
      "loss :            0.6655067\n",
      "\n",
      "grandient_step :  23000\n",
      "loss :            0.6000252\n",
      "\n"
     ]
    },
    {
     "name": "stderr",
     "output_type": "stream",
     "text": [
      "W0721 23:50:17.563136 4780836288 deprecation_wrapper.py:119] From /Users/sungchul/Dropbox/Git/machine_learning/mlp_mnist_flat_class_version/model/softmax_regression.py:216: The name tf.train.Saver is deprecated. Please use tf.compat.v1.train.Saver instead.\n",
      "\n",
      "W0721 23:50:18.035365 4780836288 deprecation_wrapper.py:119] From /Users/sungchul/Dropbox/Git/machine_learning/mlp_mnist_flat_class_version/model/softmax_regression.py:202: The name tf.train.import_meta_graph is deprecated. Please use tf.compat.v1.train.import_meta_graph instead.\n",
      "\n",
      "W0721 23:50:18.158963 4780836288 deprecation.py:323] From /Users/sungchul/anaconda3/lib/python3.7/site-packages/tensorflow/python/training/saver.py:1276: checkpoint_exists (from tensorflow.python.training.checkpoint_management) is deprecated and will be removed in a future version.\n",
      "Instructions for updating:\n",
      "Use standard file APIs to check for files with this prefix.\n"
     ]
    },
    {
     "name": "stdout",
     "output_type": "stream",
     "text": [
      "train accuracy :  0.99705\n",
      "test accuracy :  0.9842\n",
      "train accuracy :  0.99705\n",
      "test accuracy :  0.9842\n",
      "[[ 973    1    0    0    1    1    2    1    1    0]\n",
      " [   0 1126    4    0    0    1    2    0    2    0]\n",
      " [   4    0 1015    4    1    0    1    5    2    0]\n",
      " [   0    0    3  996    0    3    0    4    2    2]\n",
      " [   0    0    4    0  967    0    3    1    2    5]\n",
      " [   2    0    0    3    1  877    3    1    4    1]\n",
      " [   4    2    1    1    2    4  942    0    2    0]\n",
      " [   1    4    8    2    1    0    0 1010    0    2]\n",
      " [   2    0    2    3    4    4    1    4  953    1]\n",
      " [   3    2    0    5    7    2    1    6    0  983]]\n"
     ]
    },
    {
     "data": {
      "text/plain": [
       "<Figure size 432x288 with 0 Axes>"
      ]
     },
     "metadata": {},
     "output_type": "display_data"
    },
    {
     "data": {
      "image/png": "[encoded data removed]",
      "text/plain": [
       "<Figure size 432x288 with 9 Axes>"
      ]
     },
     "metadata": {},
     "output_type": "display_data"
    }
   ],
   "source": [
    "import numpy as np\n",
    "import tensorflow as tf\n",
    "from model.softmax_regression import SoftmaxRegression\n",
    "from data_loading import mnist_flat_loader as mnist_flat\n",
    "    \n",
    "x_train, y_train, y_train_cls, x_test, y_test, y_test_cls, cls_names = mnist_flat.data_loading()\n",
    "    \n",
    "with tf.Session() as sess:\n",
    "    a = SoftmaxRegression(x_train, y_train, y_train_cls, cls_names, sess,\n",
    "                 lr=1e-4, epoch=100, batch_size=256, report_period=1000, np_seed=1, tf_seed=1,\n",
    "                 drop_out_rate=0.3,\n",
    "                 initializer=tf.contrib.layers.variance_scaling_initializer(mode=\"FAN_AVG\"),\n",
    "                 save_path='result/model/model_1',\n",
    "                 figure_save_dir='result/img',\n",
    "                 activation=tf.nn.relu)\n",
    "    a.train()\n",
    "        \n",
    "    print('train accuracy : ', a.compute_accuracy(x_train, y_train, y_train_cls))\n",
    "    print('test accuracy : ', a.compute_accuracy(x_test, y_test, y_test_cls))\n",
    "    \n",
    "with tf.Session() as sess:\n",
    "    a = SoftmaxRegression(x_train, y_train, y_train_cls, cls_names, sess,\n",
    "                 lr=1e-4, epoch=100, batch_size=256, report_period=1000, np_seed=1, tf_seed=1,\n",
    "                 drop_out_rate=0.3,\n",
    "                 initializer=tf.contrib.layers.variance_scaling_initializer(mode=\"FAN_AVG\"),\n",
    "                 save_path='result/model/model_1',\n",
    "                 figure_save_dir='result/img',\n",
    "                 activation=tf.nn.relu)\n",
    "    a.restore()\n",
    "        \n",
    "    print('train accuracy : ', a.compute_accuracy(x_train, y_train, y_train_cls))\n",
    "    print('test accuracy : ', a.compute_accuracy(x_test, y_test, y_test_cls))\n",
    "    \n",
    "    a.compute_confusion_matrix(x_test, y_test, y_test_cls)\n",
    "    a.plot_9_images_with_false_prediction(x_test, y_test, y_test_cls)"
   ]
  },
  {
   "cell_type": "code",
   "execution_count": null,
   "metadata": {},
   "outputs": [],
   "source": []
  }
 ],
 "metadata": {
  "kernelspec": {
   "display_name": "Python 3",
   "language": "python",
   "name": "python3"
  },
  "language_info": {
   "codemirror_mode": {
    "name": "ipython",
    "version": 3
   },
   "file_extension": ".py",
   "mimetype": "text/x-python",
   "name": "python",
   "nbconvert_exporter": "python",
   "pygments_lexer": "ipython3",
   "version": "3.7.3"
  }
 },
 "nbformat": 4,
 "nbformat_minor": 2
}
