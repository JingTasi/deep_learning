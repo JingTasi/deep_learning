{
 "cells": [
  {
   "cell_type": "markdown",
   "metadata": {},
   "source": [
    "# tf.argmax's output dtype is int64"
   ]
  },
  {
   "cell_type": "code",
   "execution_count": 1,
   "metadata": {},
   "outputs": [
    {
     "name": "stdout",
     "output_type": "stream",
     "text": [
      "<dtype: 'float32'>\n",
      "<dtype: 'float32'>\n",
      "<dtype: 'int32'>\n"
     ]
    }
   ],
   "source": [
    "import numpy as np\n",
    "import matplotlib.pyplot as plt\n",
    "import tensorflow as tf\n",
    "from copy import deepcopy\n",
    "\n",
    "# this line should be commented out for regular python run \n",
    "%matplotlib inline  \n",
    "# this line should be commented out for regular python run \n",
    "\n",
    "\n",
    "\"\"\" Hyperparameter \"\"\"\n",
    "data_size_train = 60000\n",
    "data_size_test = 10000\n",
    "batch_size = 100\n",
    "lr = 1e-2\n",
    "epoch = 1000\n",
    "\n",
    "\n",
    "\"\"\" Data Loading \"\"\"\n",
    "def load_mnist_flat():\n",
    "    mnist = tf.keras.datasets.mnist\n",
    "    (x_train, y_train), (x_test, y_test) = mnist.load_data()\n",
    "\n",
    "    x_train, x_test = x_train / 255.0, x_test / 255.0\n",
    "    x_train, x_test = x_train.reshape((-1, 784)), x_test.reshape((-1, 784))\n",
    "    x_train, x_test = x_train.astype(np.float32), x_test.astype(np.float32)\n",
    "\n",
    "    y_train_cls = deepcopy(y_train).astype(np.int32)\n",
    "    y_test_cls = deepcopy(y_test).astype(np.int32)\n",
    "\n",
    "    y_train = np.eye(10)[y_train].astype(np.float32)\n",
    "    y_test = np.eye(10)[y_test].astype(np.float32)\n",
    "\n",
    "    data = (x_train, x_test, y_train, y_test, y_train_cls, y_test_cls)\n",
    "\n",
    "    return data\n",
    "\n",
    "\n",
    "# x_train.shape     :  (60000, 784)\n",
    "# x_test.shape      :  (10000, 784)\n",
    "# y_train.shape     :  (60000, 10)\n",
    "# y_test.shape      :  (10000, 10)\n",
    "# y_train_cls.shape :  (60000,)\n",
    "# y_test_cls.shape  :  (10000,)\n",
    "data = load_mnist_flat()\n",
    "x_train, x_test, y_train, y_test, y_train_cls, y_test_cls = data\n",
    "\n",
    "\n",
    "\"\"\" Graph Construction \"\"\"\n",
    "tf.random.set_random_seed(337)\n",
    "\n",
    "# placeholders\n",
    "x = tf.placeholder(tf.float32, shape=(batch_size, 784), name='x')\n",
    "y = tf.placeholder(tf.float32, shape=(batch_size, 10), name='y')\n",
    "y_cls = tf.placeholder(tf.int32, shape=(batch_size,), name='y_cls')\n",
    "\n",
    "# weights\n",
    "W = tf.get_variable(\"W\", shape=(784, 10), \\\n",
    "        initializer=tf.contrib.layers.variance_scaling_initializer(mode=\"FAN_AVG\"))\n",
    "b = tf.get_variable(\"b\", shape=(1, 10), \\\n",
    "        initializer=tf.constant_initializer(0.0))\n",
    "\n",
    "# logits, y_pred, and y_pred_cls \n",
    "logits = (x @ W) + b\n",
    "y_pred = tf.nn.softmax(logits, name='y_pred') # probabilities\n",
    "print(logits.dtype) # float32\n",
    "print(y_pred.dtype) # float32\n",
    "\n",
    "# y_pred_cls = tf.cast(tf.argmax(logits, axis=1), tf.int32) \n",
    "y_pred_cls = tf.argmax(logits, axis=1, output_type=tf.int32) \n",
    "print(y_pred_cls.dtype) # int32\n",
    "\n",
    "# cross_entropy cost function\n",
    "cross_entropy = tf.nn.softmax_cross_entropy_with_logits_v2(logits=logits,\n",
    "                                                           labels=y)\n",
    "cost = tf.reduce_mean(cross_entropy)\n",
    "\n",
    "# optimizer\n",
    "train_op = tf.train.AdamOptimizer(learning_rate=lr).minimize(cost)\n",
    "\n",
    "# test accuracy\n",
    "# you have to put test sets to compute test_accuracy\n",
    "correct_bool = tf.equal(y_cls, y_pred_cls)\n",
    "test_accuracy = tf.reduce_mean(tf.cast(correct_bool, tf.float32))"
   ]
  },
  {
   "cell_type": "code",
   "execution_count": null,
   "metadata": {},
   "outputs": [],
   "source": []
  }
 ],
 "metadata": {
  "kernelspec": {
   "display_name": "Python 3",
   "language": "python",
   "name": "python3"
  },
  "language_info": {
   "codemirror_mode": {
    "name": "ipython",
    "version": 3
   },
   "file_extension": ".py",
   "mimetype": "text/x-python",
   "name": "python",
   "nbconvert_exporter": "python",
   "pygments_lexer": "ipython3",
   "version": "3.5.0"
  }
 },
 "nbformat": 4,
 "nbformat_minor": 2
}
