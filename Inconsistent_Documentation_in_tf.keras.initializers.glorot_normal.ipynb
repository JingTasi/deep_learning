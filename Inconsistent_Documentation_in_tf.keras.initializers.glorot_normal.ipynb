{
 "cells": [
  {
   "cell_type": "markdown",
   "metadata": {},
   "source": [
    "# Bug in tf.initializer"
   ]
  },
  {
   "cell_type": "markdown",
   "metadata": {},
   "source": [
    "##### What is the default kernel initializer in tf.layers.conv2d and tf.layers.dense?\n",
    "\n",
    "So the answer is: it uses the glorot_uniform_initializer. - rmeertens\n",
    "\n",
    "The Glorot uniform initializer, also called Xavier uniform initializer:\n",
    "$$\n",
    "\\mbox{Glorot_uniform_initializer} \n",
    "= \\mbox{Uniform}\\left(-\\mbox{limit}, \\mbox{limit}\\right),\\quad\n",
    "\\mbox{limit} = \\sqrt{\\frac{6}{\\mbox{fan_in} + \\mbox{fan_out}}}\n",
    "$$\n",
    "https://www.tensorflow.org/api_docs/python/tf/glorot_uniform_initializer\n",
    "\n",
    "The Glorot normal initializer, also called Xavier normal initializer:\n",
    "$$\n",
    "\\mbox{Glorot_normal_initializer} \n",
    "= \\mbox{Truncated_normal}\\left(0,\\sigma^2\\right),\\quad\n",
    "\\sigma = \\sqrt{\\frac{2}{\\mbox{fan_in} + \\mbox{fan_out}}}\\quad\\mbox{NOP!!!}\n",
    "$$\n",
    "$$$$\n",
    "$$\n",
    "\\mbox{Glorot_normal_initializer} \n",
    "= \\mbox{Truncated_normal}\\left(0,\\sigma^2\\right),\\quad\n",
    "\\sigma = \\sqrt{\\frac{2}{\\mbox{fan_in} + \\mbox{fan_out}}} / .87962566103423978\n",
    "$$\n",
    "https://www.tensorflow.org/api_docs/python/tf/keras/initializers/glorot_normal\n",
    "\n",
    "According to this course by Andrew Ng and the Xavier documentation, \n",
    "if you are using ReLU as activation function, \n",
    "better change the default weights initializer(which is Xavier uniform) to Xavier normal - xtluo\n",
    "\n",
    "https://stackoverflow.com/questions/43284047/what-is-the-default-kernel-initializer-in-tf-layers-conv2d-and-tf-layers-dense"
   ]
  },
  {
   "cell_type": "markdown",
   "metadata": {},
   "source": [
    "# tf.keras.initializers.glorot_uniform is ok"
   ]
  },
  {
   "cell_type": "code",
   "execution_count": 1,
   "metadata": {},
   "outputs": [
    {
     "data": {
      "image/png": "[encoded data removed]",
      "text/plain": [
       "<Figure size 432x288 with 1 Axes>"
      ]
     },
     "metadata": {
      "needs_background": "light"
     },
     "output_type": "display_data"
    },
    {
     "name": "stdout",
     "output_type": "stream",
     "text": [
      "-0.17320508075688773 0.17320508075688773\n",
      "-0.17317027 0.17318186\n"
     ]
    }
   ],
   "source": [
    "import numpy as np\n",
    "import matplotlib.pyplot as plt\n",
    "import tensorflow as tf\n",
    "\n",
    "# this line should be commented out for regular python run \n",
    "%matplotlib inline  \n",
    "# this line should be commented out for regular python run\n",
    "\n",
    "fan_in = 100\n",
    "fan_out = 100\n",
    "limit = np.sqrt(6 / (fan_in + fan_out))\n",
    "\n",
    "tf.random.set_random_seed(337)\n",
    "\n",
    "W = tf.get_variable(\"W\", \\\n",
    "                    shape=(fan_in, fan_out), \\\n",
    "                    initializer=tf.keras.initializers.glorot_uniform)\n",
    "\n",
    "with tf.Session() as sess:\n",
    "    tf.global_variables_initializer().run()\n",
    "    \n",
    "    W_now = sess.run(W)\n",
    "    \n",
    "    plt.hist(W_now.reshape((-1,)), bins=100)\n",
    "    plt.show()\n",
    "    \n",
    "    print(-limit, limit)\n",
    "    print(np.min(W_now.reshape((-1,))), np.max(W_now.reshape((-1,))))"
   ]
  },
  {
   "cell_type": "code",
   "execution_count": 1,
   "metadata": {},
   "outputs": [
    {
     "data": {
      "image/png": "[encoded data removed]",
      "text/plain": [
       "<Figure size 432x288 with 1 Axes>"
      ]
     },
     "metadata": {
      "needs_background": "light"
     },
     "output_type": "display_data"
    },
    {
     "name": "stdout",
     "output_type": "stream",
     "text": [
      "-0.08333333333333333 0.08333333333333333\n",
      "-0.08331659 0.083322175\n"
     ]
    }
   ],
   "source": [
    "import numpy as np\n",
    "import matplotlib.pyplot as plt\n",
    "import tensorflow as tf\n",
    "\n",
    "# this line should be commented out for regular python run \n",
    "%matplotlib inline  \n",
    "# this line should be commented out for regular python run\n",
    "\n",
    "filter_size = 3\n",
    "num_channel_in = 32\n",
    "num_channel_out = 64\n",
    "\n",
    "fan_in = filter_size * filter_size * num_channel_in\n",
    "fan_out = filter_size * filter_size * num_channel_out \n",
    "limit = np.sqrt(6 / (fan_in + fan_out))\n",
    "\n",
    "tf.random.set_random_seed(337)\n",
    "\n",
    "W = tf.get_variable(\"W\", \\\n",
    "                    shape=(filter_size, filter_size, num_channel_in, num_channel_out), \\\n",
    "                    initializer=tf.keras.initializers.glorot_uniform)\n",
    "\n",
    "with tf.Session() as sess:\n",
    "    tf.global_variables_initializer().run()\n",
    "    \n",
    "    W_now = sess.run(W)\n",
    "    \n",
    "    plt.hist(W_now.reshape((-1,)), bins=100)\n",
    "    plt.show()\n",
    "    \n",
    "    print(-limit, limit)\n",
    "    print(np.min(W_now.reshape((-1,))), np.max(W_now.reshape((-1,))))"
   ]
  },
  {
   "cell_type": "markdown",
   "metadata": {},
   "source": [
    "# tf.keras.initializers.glorot_normal is not well-documented"
   ]
  },
  {
   "cell_type": "code",
   "execution_count": 1,
   "metadata": {},
   "outputs": [
    {
     "data": {
      "image/png": "[encoded data removed]",
      "text/plain": [
       "<Figure size 432x288 with 1 Axes>"
      ]
     },
     "metadata": {
      "needs_background": "light"
     },
     "output_type": "display_data"
    },
    {
     "name": "stdout",
     "output_type": "stream",
     "text": [
      "-0.2 0.2\n",
      "-0.2273694468677113 0.2273694468677113\n",
      "-0.22728574 0.22735965\n"
     ]
    }
   ],
   "source": [
    "import numpy as np\n",
    "import matplotlib.pyplot as plt\n",
    "import tensorflow as tf\n",
    "\n",
    "# this line should be commented out for regular python run \n",
    "%matplotlib inline  \n",
    "# this line should be commented out for regular python run\n",
    "\n",
    "fan_in = 100\n",
    "fan_out = 100\n",
    "sigma = np.sqrt(2 / (fan_in + fan_out))\n",
    "sigma_used_in_truncated_normal = sigma / .87962566103423978\n",
    "\n",
    "tf.random.set_random_seed(337)\n",
    "\n",
    "W = tf.get_variable(\"W\", \\\n",
    "                    shape=(fan_in, fan_out), \\\n",
    "                    initializer=tf.keras.initializers.glorot_normal)\n",
    "\n",
    "with tf.Session() as sess:\n",
    "    tf.global_variables_initializer().run()\n",
    "    \n",
    "    W_now = sess.run(W)\n",
    "    \n",
    "    plt.hist(W_now.reshape((-1,)), bins=100)\n",
    "    plt.show()\n",
    "    \n",
    "    print(-2*sigma, 2*sigma)\n",
    "    print(-2*sigma_used_in_truncated_normal, 2*sigma_used_in_truncated_normal)\n",
    "    print(np.min(W_now.reshape((-1,))), np.max(W_now.reshape((-1,))))"
   ]
  },
  {
   "cell_type": "code",
   "execution_count": 1,
   "metadata": {},
   "outputs": [
    {
     "data": {
      "image/png": "[encoded data removed]",
      "text/plain": [
       "<Figure size 432x288 with 1 Axes>"
      ]
     },
     "metadata": {
      "needs_background": "light"
     },
     "output_type": "display_data"
    },
    {
     "name": "stdout",
     "output_type": "stream",
     "text": [
      "-0.09622504486493763 0.09622504486493763\n",
      "-0.10939317612880786 0.10939317612880786\n",
      "-0.10935291 0.10938847\n"
     ]
    }
   ],
   "source": [
    "import numpy as np\n",
    "import matplotlib.pyplot as plt\n",
    "import tensorflow as tf\n",
    "\n",
    "# this line should be commented out for regular python run \n",
    "%matplotlib inline  \n",
    "# this line should be commented out for regular python run\n",
    "\n",
    "filter_size = 3\n",
    "num_channel_in = 32\n",
    "num_channel_out = 64\n",
    "\n",
    "fan_in = filter_size * filter_size * num_channel_in\n",
    "fan_out = filter_size * filter_size * num_channel_out \n",
    "sigma = np.sqrt(2 / (fan_in + fan_out))\n",
    "sigma_used_in_truncated_normal = sigma / .87962566103423978\n",
    "\n",
    "tf.random.set_random_seed(337)\n",
    "\n",
    "W = tf.get_variable(\"W\", \\\n",
    "                    shape=(filter_size, filter_size, num_channel_in, num_channel_out), \\\n",
    "                    initializer=tf.keras.initializers.glorot_normal)\n",
    "\n",
    "with tf.Session() as sess:\n",
    "    tf.global_variables_initializer().run()\n",
    "    \n",
    "    W_now = sess.run(W)\n",
    "    \n",
    "    plt.hist(W_now.reshape((-1,)), bins=100)\n",
    "    plt.show()\n",
    "    \n",
    "    print(-2*sigma, 2*sigma)\n",
    "    print(-2*sigma_used_in_truncated_normal, 2*sigma_used_in_truncated_normal)\n",
    "    print(np.min(W_now.reshape((-1,))), np.max(W_now.reshape((-1,))))"
   ]
  },
  {
   "cell_type": "markdown",
   "metadata": {},
   "source": [
    "# tf.truncated_normal_initializer"
   ]
  },
  {
   "cell_type": "code",
   "execution_count": 1,
   "metadata": {},
   "outputs": [
    {
     "data": {
      "image/png": "[encoded data removed]",
      "text/plain": [
       "<Figure size 432x288 with 1 Axes>"
      ]
     },
     "metadata": {
      "needs_background": "light"
     },
     "output_type": "display_data"
    },
    {
     "name": "stdout",
     "output_type": "stream",
     "text": [
      "-0.2 0.2\n",
      "-0.19992638 0.19999139\n"
     ]
    }
   ],
   "source": [
    "import numpy as np\n",
    "import matplotlib.pyplot as plt\n",
    "import tensorflow as tf\n",
    "\n",
    "# this line should be commented out for regular python run \n",
    "%matplotlib inline  \n",
    "# this line should be commented out for regular python run\n",
    "\n",
    "fan_in = 100\n",
    "fan_out = 100\n",
    "sigma = np.sqrt(2 / (fan_in + fan_out))\n",
    "\n",
    "tf.random.set_random_seed(337)\n",
    "\n",
    "W = tf.get_variable(\"W\", \\\n",
    "                    shape=(fan_in, fan_out), \\\n",
    "                    initializer=tf.truncated_normal_initializer(stddev=sigma))\n",
    "\n",
    "with tf.Session() as sess:\n",
    "    tf.global_variables_initializer().run()\n",
    "    \n",
    "    W_now = sess.run(W)\n",
    "    \n",
    "    plt.hist(W_now.reshape((-1,)), bins=100)\n",
    "    plt.show()\n",
    "    \n",
    "    print(-2*sigma, 2*sigma)\n",
    "    print(np.min(W_now.reshape((-1,))), np.max(W_now.reshape((-1,))))"
   ]
  },
  {
   "cell_type": "code",
   "execution_count": 1,
   "metadata": {},
   "outputs": [
    {
     "data": {
      "image/png": "[encoded data removed]",
      "text/plain": [
       "<Figure size 432x288 with 1 Axes>"
      ]
     },
     "metadata": {
      "needs_background": "light"
     },
     "output_type": "display_data"
    },
    {
     "name": "stdout",
     "output_type": "stream",
     "text": [
      "-0.09622504486493763 0.09622504486493763\n",
      "-0.096189626 0.0962209\n"
     ]
    }
   ],
   "source": [
    "import numpy as np\n",
    "import matplotlib.pyplot as plt\n",
    "import tensorflow as tf\n",
    "\n",
    "# this line should be commented out for regular python run \n",
    "%matplotlib inline  \n",
    "# this line should be commented out for regular python run\n",
    "\n",
    "filter_size = 3\n",
    "num_channel_in = 32\n",
    "num_channel_out = 64\n",
    "\n",
    "fan_in = filter_size * filter_size * num_channel_in\n",
    "fan_out = filter_size * filter_size * num_channel_out \n",
    "sigma = np.sqrt(2 / (fan_in + fan_out))\n",
    "\n",
    "tf.random.set_random_seed(337)\n",
    "\n",
    "W = tf.get_variable(\"W\", \\\n",
    "                    shape=(filter_size, filter_size, num_channel_in, num_channel_out), \\\n",
    "                    initializer=tf.truncated_normal_initializer(stddev=sigma))\n",
    "\n",
    "with tf.Session() as sess:\n",
    "    tf.global_variables_initializer().run()\n",
    "    \n",
    "    W_now = sess.run(W)\n",
    "    \n",
    "    plt.hist(W_now.reshape((-1,)), bins=100)\n",
    "    plt.show()\n",
    "    \n",
    "    print(-2*sigma, 2*sigma)\n",
    "    print(np.min(W_now.reshape((-1,))), np.max(W_now.reshape((-1,))))"
   ]
  },
  {
   "cell_type": "code",
   "execution_count": null,
   "metadata": {},
   "outputs": [],
   "source": []
  }
 ],
 "metadata": {
  "kernelspec": {
   "display_name": "Python 3",
   "language": "python",
   "name": "python3"
  },
  "language_info": {
   "codemirror_mode": {
    "name": "ipython",
    "version": 3
   },
   "file_extension": ".py",
   "mimetype": "text/x-python",
   "name": "python",
   "nbconvert_exporter": "python",
   "pygments_lexer": "ipython3",
   "version": "3.5.0"
  }
 },
 "nbformat": 4,
 "nbformat_minor": 2
}
